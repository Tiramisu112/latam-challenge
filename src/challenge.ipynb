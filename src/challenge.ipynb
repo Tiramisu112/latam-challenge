{
 "cells": [
  {
   "cell_type": "markdown",
   "metadata": {},
   "source": [
    "En este archivo puedes escribir lo que estimes conveniente. Te recomendamos detallar tu solución y todas las suposiciones que estás considerando. Aquí puedes ejecutar las funciones que definiste en los otros archivos de la carpeta src, medir el tiempo, memoria, etc."
   ]
  },
  {
   "cell_type": "code",
   "execution_count": 4,
   "metadata": {},
   "outputs": [],
   "source": [
    "file_path = \"farmers-protest-tweets-2021-2-4.json\""
   ]
  },
  {
   "cell_type": "code",
   "execution_count": 25,
   "metadata": {},
   "outputs": [],
   "source": [
    "import json\n",
    "\n",
    "tweets_arr = []\n",
    "\n",
    "with open(file_path, 'r') as file:\n",
    "    for line in file.readlines():\n",
    "        input_data = json.loads(line)\n",
    "        output_data = {\n",
    "            'date': input_data['date'],\n",
    "            'username': input_data['user']['username']\n",
    "        }\n",
    "        tweets_arr.append(output_data)"
   ]
  },
  {
   "cell_type": "code",
   "execution_count": 67,
   "metadata": {},
   "outputs": [],
   "source": [
    "date_count_dict = dict()\n",
    "user_count_dict = dict()\n",
    "for tweet in tweets_arr:\n",
    "    date = tweet['date'].split('T')[0]\n",
    "    username = tweet['username']\n",
    "    if date in date_count_dict.keys():\n",
    "        date_count_dict[date] += 1\n",
    "        if username in user_count_dict[date].keys():\n",
    "            user_count_dict[date][username] += 1\n",
    "        else:\n",
    "            user_count_dict[date][username] = 1\n",
    "    else:\n",
    "        date_count_dict[date] = 1\n",
    "        user_count_dict[date] = {\n",
    "            username: 1\n",
    "        }\n",
    "\n"
   ]
  },
  {
   "cell_type": "code",
   "execution_count": 70,
   "metadata": {},
   "outputs": [
    {
     "data": {
      "text/plain": [
       "['2021-02-12',\n",
       " '2021-02-13',\n",
       " '2021-02-17',\n",
       " '2021-02-16',\n",
       " '2021-02-14',\n",
       " '2021-02-18',\n",
       " '2021-02-15',\n",
       " '2021-02-20',\n",
       " '2021-02-23',\n",
       " '2021-02-19']"
      ]
     },
     "execution_count": 70,
     "metadata": {},
     "output_type": "execute_result"
    }
   ],
   "source": [
    "top_10_dates = list(dict(sorted(date_count_dict.items(), key=lambda x: x[1], reverse=True)[:10]).keys())\n",
    "top_10_dates"
   ]
  },
  {
   "cell_type": "code",
   "execution_count": 96,
   "metadata": {},
   "outputs": [
    {
     "data": {
      "text/plain": [
       "[(datetime.date(2021, 1, 12), 'RanbirS00614606'),\n",
       " (datetime.date(2021, 1, 13), 'MaanDee08215437'),\n",
       " (datetime.date(2021, 1, 17), 'RaaJVinderkaur'),\n",
       " (datetime.date(2021, 1, 16), 'jot__b'),\n",
       " (datetime.date(2021, 1, 14), 'rebelpacifist'),\n",
       " (datetime.date(2021, 1, 18), 'neetuanjle_nitu'),\n",
       " (datetime.date(2021, 1, 15), 'jot__b'),\n",
       " (datetime.date(2021, 1, 20), 'MangalJ23056160'),\n",
       " (datetime.date(2021, 1, 23), 'Surrypuria'),\n",
       " (datetime.date(2021, 1, 19), 'Preetm91')]"
      ]
     },
     "execution_count": 96,
     "metadata": {},
     "output_type": "execute_result"
    }
   ],
   "source": [
    "from datetime import datetime\n",
    "\n",
    "top_10_users = list()\n",
    "for top_date in top_10_dates:\n",
    "    users = user_count_dict[top_date]\n",
    "    top_user = max(users.items(), key=lambda x: x[1])[0]\n",
    "    top_10_users.append((datetime.strptime(top_date, '%Y-%M-%d').date(), top_user))\n",
    "top_10_users"
   ]
  },
  {
   "cell_type": "code",
   "execution_count": null,
   "metadata": {},
   "outputs": [],
   "source": []
  },
  {
   "cell_type": "code",
   "execution_count": null,
   "metadata": {},
   "outputs": [],
   "source": []
  }
 ],
 "metadata": {
  "kernelspec": {
   "display_name": "Python 3",
   "language": "python",
   "name": "python3"
  },
  "language_info": {
   "codemirror_mode": {
    "name": "ipython",
    "version": 3
   },
   "file_extension": ".py",
   "mimetype": "text/x-python",
   "name": "python",
   "nbconvert_exporter": "python",
   "pygments_lexer": "ipython3",
   "version": "3.12.4"
  },
  "orig_nbformat": 4
 },
 "nbformat": 4,
 "nbformat_minor": 2
}
